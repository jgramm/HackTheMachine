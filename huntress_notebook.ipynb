{
 "cells": [
  {
   "cell_type": "code",
   "execution_count": null,
   "metadata": {
    "collapsed": true
   },
   "outputs": [],
   "source": [
    "import tensorflow as tf\n",
    "import numpy as np\n",
    "import matplotlib.pyplot as plt\n",
    "plt.plot(range(0,20) + np.random.random(20))\n",
    "plt.ylabel('some numbers')\n",
    "plt.show()\n",
    " "
   ]
  },
  {
   "cell_type": "code",
   "execution_count": null,
   "metadata": {
    "collapsed": true
   },
   "outputs": [],
   "source": [
    "sess= tf.InteractiveSession()\n",
    "a = tf.Variable([1,2],name=\"foo\")\n",
    "init = tf.global_variables_initializer()\n",
    "sess.run(init)\n",
    "sess.run(a)\n",
    " "
   ]
  },
  {
   "cell_type": "code",
   "execution_count": null,
   "metadata": {
    "collapsed": true
   },
   "outputs": [],
   "source": [
    "import hashlib\n",
    "import random\n",
    "import matplotlib.pyplot as plt\n",
    "%matplotlib inline\n",
    " \n",
    "a={}\n",
    "init=['0','1','2','3','4','5','6','7','8','9','a','b','c','d','e','f']\n",
    "for i in init:\n",
    "    a[i]=0\n",
    "\n",
    "for i in range(1,1000000):\n",
    "    x=str(random.random())\n",
    "    for i in range(1,1000):\n",
    "        x = hashlib.sha224(x).hexdigest()\n",
    "    a[x[0]] +=1\n",
    "\n",
    "print a\n",
    "plt.plot(a.values())\n",
    "plt.show()\n",
    "\n"
   ]
  },
  {
   "cell_type": "code",
   "execution_count": null,
   "metadata": {
    "collapsed": true
   },
   "outputs": [],
   "source": [
    "plt.plot(a.values())"
   ]
  },
  {
   "cell_type": "code",
   "execution_count": 41,
   "metadata": {
    "collapsed": true
   },
   "outputs": [],
   "source": [
    "from scipy import signal\n",
    "from scipy import stats\n",
    "import csv\n",
    "import numpy as np\n",
    "from numpy import genfromtxt\n",
    "import matplotlib.pyplot as plt\n",
    " \n",
    "fh1 = open(\"classC_ship1_SSDG.csv\")\n",
    "fh2 = open(\"classC_ship2_SSDG.csv\")\n",
    "fh3 = open(\"classA_ship1_allMRG.csv\")\n",
    "r1 = csv.reader(fh3)\n",
    "r2 = csv.reader(fh2)\n",
    "\n",
    "hack1=list(r1)\n",
    "hack2=list(r2) "
   ]
  },
  {
   "cell_type": "markdown",
   "metadata": {},
   "source": [
    "code for Class C Ship 1\n",
    "215 vs 216, 59 vs 74, 1 vs 110"
   ]
  },
  {
   "cell_type": "code",
   "execution_count": 73,
   "metadata": {
    "scrolled": true
   },
   "outputs": [
    {
     "name": "stdout",
     "output_type": "stream",
     "text": [
      "error count  5\n"
     ]
    },
    {
     "data": {
      "image/png": "[encoded data removed]",
      "text/plain": [
       "<matplotlib.figure.Figure at 0x7f862a07f710>"
      ]
     },
     "metadata": {},
     "output_type": "display_data"
    }
   ],
   "source": [
    "from sklearn import svm\n",
    "\n",
    "fh3 = open(\"svm_boundary.csv\")\n",
    "svmcsv = csv.reader(fh3)\n",
    "b = list(svmcsv)\n",
    "boundary=[]\n",
    "for a in b:\n",
    "    boundary.append(a[0])\n",
    "     \n",
    "boundary= np.array(boundary)\n",
    "x=[]\n",
    "y=[]\n",
    "good_bad=[]\n",
    "gc =0\n",
    "bc=0\n",
    "err=0\n",
    "for i in range(1, len(hack1)):  \n",
    "    try:\n",
    "        nx = float(hack1[i][5])\n",
    "        ny = float(hack1[i][6])\n",
    "        y.append(ny)\n",
    "        x.append(nx)\n",
    "        j = int(nx)\n",
    "        #if (y[j] > boundary[j]):\n",
    "        if(j > 500):\n",
    "            good_bad.append(1)       \n",
    "            gc +=1\n",
    "        else:\n",
    "            good_bad.append(0)\n",
    "            bc +=1 \n",
    "    except:\n",
    "        err +=1\n",
    "print \"error count \", err\n",
    "\n",
    "            \n",
    "plt.scatter(x,y) \n",
    "plt.title(\"Bearing 5 vs Bearing 3 temperature\")\n",
    "plt.show()\n",
    "x=np.array(x)\n",
    "y=np.array(y)\n",
    "X = np.transpose(np.array([x,y]))\n",
    "  "
   ]
  },
  {
   "cell_type": "code",
   "execution_count": 57,
   "metadata": {},
   "outputs": [
    {
     "ename": "ValueError",
     "evalue": "The number of classes has to be greater than one; got 1",
     "output_type": "error",
     "traceback": [
      "\u001b[0;31m\u001b[0m",
      "\u001b[0;31mValueError\u001b[0mTraceback (most recent call last)",
      "\u001b[0;32m<ipython-input-57-8e22bae87206>\u001b[0m in \u001b[0;36m<module>\u001b[0;34m()\u001b[0m\n\u001b[1;32m      9\u001b[0m \u001b[0;34m\u001b[0m\u001b[0m\n\u001b[1;32m     10\u001b[0m \u001b[0;34m\u001b[0m\u001b[0m\n\u001b[0;32m---> 11\u001b[0;31m \u001b[0;32mprint\u001b[0m \u001b[0mclf\u001b[0m\u001b[0;34m.\u001b[0m\u001b[0mfit\u001b[0m\u001b[0;34m(\u001b[0m\u001b[0mX\u001b[0m\u001b[0;34m[\u001b[0m\u001b[0;36m1\u001b[0m\u001b[0;34m:\u001b[0m\u001b[0;36m10000\u001b[0m\u001b[0;34m]\u001b[0m\u001b[0;34m,\u001b[0m \u001b[0mgood_bad\u001b[0m\u001b[0;34m[\u001b[0m\u001b[0;36m1\u001b[0m\u001b[0;34m:\u001b[0m\u001b[0;36m10000\u001b[0m\u001b[0;34m]\u001b[0m\u001b[0;34m)\u001b[0m\u001b[0;34m\u001b[0m\u001b[0m\n\u001b[0m\u001b[1;32m     12\u001b[0m \u001b[0;34m\u001b[0m\u001b[0m\n\u001b[1;32m     13\u001b[0m \u001b[0;32mprint\u001b[0m \u001b[0mclf\u001b[0m\u001b[0;34m.\u001b[0m\u001b[0mpredict\u001b[0m\u001b[0;34m(\u001b[0m\u001b[0;34m[\u001b[0m\u001b[0;36m76.0\u001b[0m\u001b[0;34m,\u001b[0m \u001b[0;36m5380.0\u001b[0m\u001b[0;34m]\u001b[0m\u001b[0;34m)\u001b[0m\u001b[0;34m\u001b[0m\u001b[0m\n",
      "\u001b[0;32m/usr/local/lib/python2.7/dist-packages/sklearn/svm/base.pyc\u001b[0m in \u001b[0;36mfit\u001b[0;34m(self, X, y, sample_weight)\u001b[0m\n\u001b[1;32m    138\u001b[0m \u001b[0;34m\u001b[0m\u001b[0m\n\u001b[1;32m    139\u001b[0m         \u001b[0mX\u001b[0m \u001b[0;34m=\u001b[0m \u001b[0mcheck_array\u001b[0m\u001b[0;34m(\u001b[0m\u001b[0mX\u001b[0m\u001b[0;34m,\u001b[0m \u001b[0maccept_sparse\u001b[0m\u001b[0;34m=\u001b[0m\u001b[0;34m'csr'\u001b[0m\u001b[0;34m,\u001b[0m \u001b[0mdtype\u001b[0m\u001b[0;34m=\u001b[0m\u001b[0mnp\u001b[0m\u001b[0;34m.\u001b[0m\u001b[0mfloat64\u001b[0m\u001b[0;34m,\u001b[0m \u001b[0morder\u001b[0m\u001b[0;34m=\u001b[0m\u001b[0;34m'C'\u001b[0m\u001b[0;34m)\u001b[0m\u001b[0;34m\u001b[0m\u001b[0m\n\u001b[0;32m--> 140\u001b[0;31m         \u001b[0my\u001b[0m \u001b[0;34m=\u001b[0m \u001b[0mself\u001b[0m\u001b[0;34m.\u001b[0m\u001b[0m_validate_targets\u001b[0m\u001b[0;34m(\u001b[0m\u001b[0my\u001b[0m\u001b[0;34m)\u001b[0m\u001b[0;34m\u001b[0m\u001b[0m\n\u001b[0m\u001b[1;32m    141\u001b[0m \u001b[0;34m\u001b[0m\u001b[0m\n\u001b[1;32m    142\u001b[0m         sample_weight = np.asarray([]\n",
      "\u001b[0;32m/usr/local/lib/python2.7/dist-packages/sklearn/svm/base.pyc\u001b[0m in \u001b[0;36m_validate_targets\u001b[0;34m(self, y)\u001b[0m\n\u001b[1;32m    476\u001b[0m             raise ValueError(\n\u001b[1;32m    477\u001b[0m                 \u001b[0;34m\"The number of classes has to be greater than one; got %d\"\u001b[0m\u001b[0;34m\u001b[0m\u001b[0m\n\u001b[0;32m--> 478\u001b[0;31m                 % len(cls))\n\u001b[0m\u001b[1;32m    479\u001b[0m \u001b[0;34m\u001b[0m\u001b[0m\n\u001b[1;32m    480\u001b[0m         \u001b[0mself\u001b[0m\u001b[0;34m.\u001b[0m\u001b[0mclasses_\u001b[0m \u001b[0;34m=\u001b[0m \u001b[0mcls\u001b[0m\u001b[0;34m\u001b[0m\u001b[0m\n",
      "\u001b[0;31mValueError\u001b[0m: The number of classes has to be greater than one; got 1"
     ]
    }
   ],
   "source": [
    "good_bad=[]\n",
    "for i in range(0, X.shape[0]):\n",
    "    if(X[i,1]< 700.0):\n",
    "        good_bad.append(0)\n",
    "    else:\n",
    "        good_bad.append(1)\n",
    "        \n",
    "clf = svm.SVC( kernel=\"linear\", verbose=True)\n",
    "\n",
    " \n",
    "print clf.fit(X[1:10000], good_bad[1:10000]) \n",
    "\n",
    "print clf.predict([76.0, 5380.0])\n",
    "print clf.predict([100.0, 900.0])\n",
    "print clf.predict([0,0])\n",
    "print clf.predict([75, 600])\n",
    "\n",
    " \n",
    "        "
   ]
  },
  {
   "cell_type": "markdown",
   "metadata": {},
   "source": [
    "Class C Ship 2"
   ]
  },
  {
   "cell_type": "code",
   "execution_count": null,
   "metadata": {
    "collapsed": true
   },
   "outputs": [],
   "source": [
    "x=[]\n",
    "y=[]\n",
    "for i in range(0, len(hack2)):\n",
    "    try:\n",
    "        nx = float(hack2[i][74])\n",
    "        ny = float(hack2[i][229])\n",
    "        y.append(ny)\n",
    "        x.append(nx)\n",
    "    except:\n",
    "        True\n",
    "plt.scatter(x,y) \n",
    "plt.title(\"Speed vs Fuel Pressure C1S2\")\n",
    "plt.show()"
   ]
  },
  {
   "cell_type": "code",
   "execution_count": null,
   "metadata": {
    "collapsed": true
   },
   "outputs": [],
   "source": [
    "from scipy import signal\n",
    "from scipy import stats\n",
    "import csv\n",
    "import numpy as np\n",
    "from numpy import genfromtxt\n",
    "import matplotlib.pyplot as plt\n",
    "fs = 10e3\n",
    "N = 1e5\n",
    "fh = open(\"classC_ship2_SSDG.csv\")\n",
    "reader =csv.reader(fh)\n",
    "hack=list(reader)\n",
    "print(hack[0])\n",
    "print(hack[0][31])\n",
    "print(hack[0][33])\n",
    "\n",
    "x=[]\n",
    "for r in range(1, len(hack)):\n",
    "    try:\n",
    "        x.append(float(hack[r][7]))\n",
    "    except:\n",
    "        True \n",
    "    \n",
    "plt.plot(x)\n",
    "plt.show()\n",
    " \n",
    "signal.spectrogram(x)\n",
    "\n",
    "#hack = genfromtxt(\"classA_ship1_allGTG.csv\")\n",
    "#amp = 2* np.sqrt(2)\n",
    "#noise_power = 0.01 * fs / 2\n",
    "#time = np.arange(N) / float(fs)\n",
    "#mod = 500*np.cos(2*np.pi*0.25*time)\n",
    "#carrier = amp * np.sin(2*np.pi*3e3*time + mod) \n",
    "#noise = np.random.normal(scale=np.sqrt(noise_power), size=time.shape)\n",
    "#noise *= np.exp(-time/5)\n",
    "#x = carrier + noise\n",
    "f, t, Sxx = signal.spectrogram(x, fs)\n",
    "#k = stats.kurtosis(Sxx, 1) # kurtosis of a bin\n",
    "print(f.shape, t.shape)\n",
    "print(Sxx.shape)\n",
    "plt.pcolormesh(t, f[0:20], Sxx[0:20,:])\n",
    "\n",
    "\n",
    " \n",
    "#plt.ylabel('Frequency [Hz]')\n",
    "#plt.xlabel('Time [sec]')\n",
    "plt.show()\n",
    "#plt.plot(k)"
   ]
  },
  {
   "cell_type": "code",
   "execution_count": null,
   "metadata": {
    "collapsed": true
   },
   "outputs": [],
   "source": []
  },
  {
   "cell_type": "code",
   "execution_count": null,
   "metadata": {
    "collapsed": true
   },
   "outputs": [],
   "source": []
  }
 ],
 "metadata": {
  "kernelspec": {
   "display_name": "Python 2",
   "language": "python",
   "name": "python2"
  },
  "language_info": {
   "codemirror_mode": {
    "name": "ipython",
    "version": 2
   },
   "file_extension": ".py",
   "mimetype": "text/x-python",
   "name": "python",
   "nbconvert_exporter": "python",
   "pygments_lexer": "ipython2",
   "version": "2.7.12"
  }
 },
 "nbformat": 4,
 "nbformat_minor": 2
}
